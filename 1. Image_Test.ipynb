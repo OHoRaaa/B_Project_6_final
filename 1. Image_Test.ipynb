{
 "cells": [
  {
   "cell_type": "code",
   "execution_count": 1,
   "id": "056ad4b7",
   "metadata": {},
   "outputs": [],
   "source": [
    "import tensorflow as tf\n",
    "import numpy as np\n",
    "import matplotlib.pyplot as plt\n",
    "import pandas as pd"
   ]
  },
  {
   "cell_type": "code",
   "execution_count": 4,
   "id": "e1c600b1",
   "metadata": {},
   "outputs": [],
   "source": [
    "dataset = pd.read_csv('cc12m.tsv', delimiter = '\\t')"
   ]
  },
  {
   "cell_type": "code",
   "execution_count": 6,
   "id": "52353fce",
   "metadata": {},
   "outputs": [],
   "source": [
    "dataset.columns = ['link', 'word']"
   ]
  },
  {
   "cell_type": "code",
   "execution_count": 7,
   "id": "42a26e4d",
   "metadata": {},
   "outputs": [
    {
     "data": {
      "text/html": [
       "<div>\n",
       "<style scoped>\n",
       "    .dataframe tbody tr th:only-of-type {\n",
       "        vertical-align: middle;\n",
       "    }\n",
       "\n",
       "    .dataframe tbody tr th {\n",
       "        vertical-align: top;\n",
       "    }\n",
       "\n",
       "    .dataframe thead th {\n",
       "        text-align: right;\n",
       "    }\n",
       "</style>\n",
       "<table border=\"1\" class=\"dataframe\">\n",
       "  <thead>\n",
       "    <tr style=\"text-align: right;\">\n",
       "      <th></th>\n",
       "      <th>link</th>\n",
       "      <th>word</th>\n",
       "    </tr>\n",
       "  </thead>\n",
       "  <tbody>\n",
       "    <tr>\n",
       "      <th>0</th>\n",
       "      <td>https://www.abc.net.au/news/image/9329676-3x2-...</td>\n",
       "      <td>Two syringes and a small vial of vaccine.</td>\n",
       "    </tr>\n",
       "    <tr>\n",
       "      <th>1</th>\n",
       "      <td>https://i.pinimg.com/originals/18/34/e4/1834e4...</td>\n",
       "      <td>The source of Anime quotes &amp; Manga quotes : Ph...</td>\n",
       "    </tr>\n",
       "    <tr>\n",
       "      <th>2</th>\n",
       "      <td>https://medialibrarycdn.entrata.com/media_libr...</td>\n",
       "      <td>Image of Stained Concrete Flooring Throughout ...</td>\n",
       "    </tr>\n",
       "    <tr>\n",
       "      <th>3</th>\n",
       "      <td>https://solarpoweredblonde.com/wp-content/uplo...</td>\n",
       "      <td>Drone shot of Green Bowl beach and two people ...</td>\n",
       "    </tr>\n",
       "    <tr>\n",
       "      <th>4</th>\n",
       "      <td>https://s.yimg.com/ny/api/res/1.2/LExBAQwpEsLW...</td>\n",
       "      <td>&lt;PERSON&gt; with Bindi, &lt;PERSON&gt; and &lt;PERSON&gt; bef...</td>\n",
       "    </tr>\n",
       "    <tr>\n",
       "      <th>...</th>\n",
       "      <td>...</td>\n",
       "      <td>...</td>\n",
       "    </tr>\n",
       "    <tr>\n",
       "      <th>12423368</th>\n",
       "      <td>https://seatplan.com/cdn/images/production/198...</td>\n",
       "      <td>1984 Cast 2016 at the Playhouse Theatre London</td>\n",
       "    </tr>\n",
       "    <tr>\n",
       "      <th>12423369</th>\n",
       "      <td>https://media-cdn.tripadvisor.com/media/photo-...</td>\n",
       "      <td>The Haynes Fish and Chip Restaurant: Half chic...</td>\n",
       "    </tr>\n",
       "    <tr>\n",
       "      <th>12423370</th>\n",
       "      <td>https://assets.sainsburys-groceries.co.uk/gol/...</td>\n",
       "      <td>The Groovy Food Company Organic Coconut Flour ...</td>\n",
       "    </tr>\n",
       "    <tr>\n",
       "      <th>12423371</th>\n",
       "      <td>https://ih1.redbubble.net/image.705161268.6502...</td>\n",
       "      <td>There Are Two Hard Things In Computer Science ...</td>\n",
       "    </tr>\n",
       "    <tr>\n",
       "      <th>12423372</th>\n",
       "      <td>https://www.brentwoodlive.co.uk/resources/imag...</td>\n",
       "      <td>The European Space Agency's ExoMars rover bein...</td>\n",
       "    </tr>\n",
       "  </tbody>\n",
       "</table>\n",
       "<p>12423373 rows × 2 columns</p>\n",
       "</div>"
      ],
      "text/plain": [
       "                                                       link  \\\n",
       "0         https://www.abc.net.au/news/image/9329676-3x2-...   \n",
       "1         https://i.pinimg.com/originals/18/34/e4/1834e4...   \n",
       "2         https://medialibrarycdn.entrata.com/media_libr...   \n",
       "3         https://solarpoweredblonde.com/wp-content/uplo...   \n",
       "4         https://s.yimg.com/ny/api/res/1.2/LExBAQwpEsLW...   \n",
       "...                                                     ...   \n",
       "12423368  https://seatplan.com/cdn/images/production/198...   \n",
       "12423369  https://media-cdn.tripadvisor.com/media/photo-...   \n",
       "12423370  https://assets.sainsburys-groceries.co.uk/gol/...   \n",
       "12423371  https://ih1.redbubble.net/image.705161268.6502...   \n",
       "12423372  https://www.brentwoodlive.co.uk/resources/imag...   \n",
       "\n",
       "                                                       word  \n",
       "0                 Two syringes and a small vial of vaccine.  \n",
       "1         The source of Anime quotes & Manga quotes : Ph...  \n",
       "2         Image of Stained Concrete Flooring Throughout ...  \n",
       "3         Drone shot of Green Bowl beach and two people ...  \n",
       "4         <PERSON> with Bindi, <PERSON> and <PERSON> bef...  \n",
       "...                                                     ...  \n",
       "12423368     1984 Cast 2016 at the Playhouse Theatre London  \n",
       "12423369  The Haynes Fish and Chip Restaurant: Half chic...  \n",
       "12423370  The Groovy Food Company Organic Coconut Flour ...  \n",
       "12423371  There Are Two Hard Things In Computer Science ...  \n",
       "12423372  The European Space Agency's ExoMars rover bein...  \n",
       "\n",
       "[12423373 rows x 2 columns]"
      ]
     },
     "execution_count": 7,
     "metadata": {},
     "output_type": "execute_result"
    }
   ],
   "source": [
    "dataset"
   ]
  },
  {
   "cell_type": "code",
   "execution_count": 37,
   "id": "3c28e0f8",
   "metadata": {},
   "outputs": [
    {
     "name": "stdout",
     "output_type": "stream",
     "text": [
      "https://www.abc.net.au/news/image/9329676-3x2-940x627.jpg\n",
      "Two syringes and a small vial of vaccine.\n"
     ]
    }
   ],
   "source": [
    "print(dataset['link'][0])\n",
    "print(dataset['word'][0])"
   ]
  },
  {
   "cell_type": "code",
   "execution_count": 32,
   "id": "4ec2799d",
   "metadata": {},
   "outputs": [],
   "source": [
    "rabbit_txt = []\n",
    "for i in dataset['word']:\n",
    "    if 'rabbit' in i:\n",
    "        rabbit_txt.append(i)\n",
    "        "
   ]
  },
  {
   "cell_type": "code",
   "execution_count": 33,
   "id": "689c030d",
   "metadata": {},
   "outputs": [
    {
     "data": {
      "text/plain": [
       "8429"
      ]
     },
     "execution_count": 33,
     "metadata": {},
     "output_type": "execute_result"
    }
   ],
   "source": [
    "len(rabbit_txt)"
   ]
  },
  {
   "cell_type": "code",
   "execution_count": 34,
   "id": "3ae5ebd4",
   "metadata": {},
   "outputs": [
    {
     "name": "stdout",
     "output_type": "stream",
     "text": [
      "Cartoon illustration of a red ant telling story to white rabbit\n"
     ]
    }
   ],
   "source": [
    "print(rabbit_txt[0])"
   ]
  },
  {
   "cell_type": "code",
   "execution_count": 40,
   "id": "1d9390ad",
   "metadata": {},
   "outputs": [
    {
     "name": "stdout",
     "output_type": "stream",
     "text": [
      "['https://thumbs.dreamstime.com/b/cartoon-illustration-red-ant-telling-story-to-white-rabbit-terrifying-giant-anteater-monster-its-imagine-67100699.jpg']\n"
     ]
    }
   ],
   "source": [
    "print(dataset['link'][dataset['word'] == rabbit_txt[0]].values)"
   ]
  },
  {
   "cell_type": "code",
   "execution_count": null,
   "id": "7e4f7229",
   "metadata": {},
   "outputs": [],
   "source": []
  },
  {
   "cell_type": "code",
   "execution_count": 41,
   "id": "34ec4458",
   "metadata": {},
   "outputs": [],
   "source": [
    "turtle_txt = []\n",
    "for i in dataset['word']:\n",
    "    if 'turtle' in i:\n",
    "        turtle_txt.append(i)\n",
    "        "
   ]
  },
  {
   "cell_type": "code",
   "execution_count": 42,
   "id": "cc32defb",
   "metadata": {},
   "outputs": [
    {
     "data": {
      "text/plain": [
       "7809"
      ]
     },
     "execution_count": 42,
     "metadata": {},
     "output_type": "execute_result"
    }
   ],
   "source": [
    "len(turtle_txt)"
   ]
  },
  {
   "cell_type": "code",
   "execution_count": 44,
   "id": "2c4c6ae1",
   "metadata": {},
   "outputs": [
    {
     "data": {
      "text/plain": [
       "'Remora fish on top of the sea turtle. Apo Island Marine Turtle Sanctuary.'"
      ]
     },
     "execution_count": 44,
     "metadata": {},
     "output_type": "execute_result"
    }
   ],
   "source": [
    "turtle_txt[20]"
   ]
  },
  {
   "cell_type": "code",
   "execution_count": 43,
   "id": "fddbaed2",
   "metadata": {},
   "outputs": [
    {
     "name": "stdout",
     "output_type": "stream",
     "text": [
      "['https://mytraveldigest.files.wordpress.com/2015/05/dsc08786.jpg?w=735&h=554']\n"
     ]
    }
   ],
   "source": [
    "print(dataset['link'][dataset['word'] == turtle_txt[20]].values)"
   ]
  },
  {
   "cell_type": "code",
   "execution_count": null,
   "id": "96241c41",
   "metadata": {},
   "outputs": [],
   "source": []
  },
  {
   "cell_type": "code",
   "execution_count": 45,
   "id": "675cb2c8",
   "metadata": {},
   "outputs": [],
   "source": [
    "run_txt = []\n",
    "for i in dataset['word']:\n",
    "    if 'run' in i:\n",
    "        run_txt.append(i)"
   ]
  },
  {
   "cell_type": "code",
   "execution_count": 46,
   "id": "0cb19d11",
   "metadata": {},
   "outputs": [
    {
     "data": {
      "text/plain": [
       "113319"
      ]
     },
     "execution_count": 46,
     "metadata": {},
     "output_type": "execute_result"
    }
   ],
   "source": [
    "len(run_txt)"
   ]
  },
  {
   "cell_type": "code",
   "execution_count": null,
   "id": "11e25c4a",
   "metadata": {},
   "outputs": [],
   "source": []
  },
  {
   "cell_type": "code",
   "execution_count": null,
   "id": "35462630",
   "metadata": {},
   "outputs": [],
   "source": []
  },
  {
   "cell_type": "code",
   "execution_count": null,
   "id": "9a3772ca",
   "metadata": {},
   "outputs": [],
   "source": []
  },
  {
   "cell_type": "code",
   "execution_count": null,
   "id": "703f7f84",
   "metadata": {},
   "outputs": [],
   "source": []
  },
  {
   "cell_type": "code",
   "execution_count": null,
   "id": "55155e3e",
   "metadata": {},
   "outputs": [],
   "source": []
  },
  {
   "cell_type": "code",
   "execution_count": null,
   "id": "c3b0caff",
   "metadata": {},
   "outputs": [],
   "source": []
  },
  {
   "cell_type": "code",
   "execution_count": null,
   "id": "d9c15071",
   "metadata": {},
   "outputs": [],
   "source": []
  },
  {
   "cell_type": "code",
   "execution_count": null,
   "id": "69cc764b",
   "metadata": {},
   "outputs": [],
   "source": []
  },
  {
   "cell_type": "code",
   "execution_count": null,
   "id": "1ee20f4c",
   "metadata": {},
   "outputs": [],
   "source": []
  },
  {
   "cell_type": "code",
   "execution_count": null,
   "id": "ebee44a2",
   "metadata": {},
   "outputs": [],
   "source": []
  },
  {
   "cell_type": "code",
   "execution_count": 17,
   "id": "252c0146",
   "metadata": {},
   "outputs": [],
   "source": [
    "dataset2 = pd.read_csv('image_data/Image_Labels_Subset_Train_GCC-Labels-training.tsv', delimiter='\\t')"
   ]
  },
  {
   "cell_type": "code",
   "execution_count": 28,
   "id": "a8fd98f2",
   "metadata": {},
   "outputs": [
    {
     "data": {
      "text/html": [
       "<div>\n",
       "<style scoped>\n",
       "    .dataframe tbody tr th:only-of-type {\n",
       "        vertical-align: middle;\n",
       "    }\n",
       "\n",
       "    .dataframe tbody tr th {\n",
       "        vertical-align: top;\n",
       "    }\n",
       "\n",
       "    .dataframe thead th {\n",
       "        text-align: right;\n",
       "    }\n",
       "</style>\n",
       "<table border=\"1\" class=\"dataframe\">\n",
       "  <thead>\n",
       "    <tr style=\"text-align: right;\">\n",
       "      <th></th>\n",
       "      <th>christmas tree on a black background .</th>\n",
       "      <th>https://thumb1.shutterstock.com/display_pic_with_logo/261388/223876810/stock-vector-christmas-tree-on-a-black-background-vector-223876810.jpg</th>\n",
       "      <th>christmas tree,christmas decoration,font,text,graphic design,illustration,interior design,tree,christmas eve,ornament,fir,plant,pine,pine family,graphics</th>\n",
       "      <th>/m/025nd,/m/05fc9mj,/m/03gq5hm,/m/07s6nbt,/m/03c31,/m/01kr8f,/m/0h8nzzj,/m/07j7r,/m/014r1s,/m/05ykl4,/m/016x4z,/m/05s2s,/m/09t57,/m/01tfm0,/m/021sdg</th>\n",
       "      <th>0.9818305373191833,0.952756941318512,0.9227379560470581,0.8524878621101379,0.7597672343254089,0.7493422031402588,0.7332468628883362,0.6869218349456787,0.6552258133888245,0.6357356309890747,0.5992692708969116,0.585474967956543,0.5222904086112976,0.5113164782524109,0.5036579966545105</th>\n",
       "    </tr>\n",
       "  </thead>\n",
       "  <tbody>\n",
       "    <tr>\n",
       "      <th>0</th>\n",
       "      <td>item : drawing of a figure surrounded by person</td>\n",
       "      <td>https://i.pinimg.com/736x/f9/fd/48/f9fd4878090...</td>\n",
       "      <td>drawing,modern art,line,visual arts,art,sketch...</td>\n",
       "      <td>/m/02csf,/m/015r61,/m/03scnj,/m/0p9xx,/m/0jjw,...</td>\n",
       "      <td>0.8945257067680359,0.8489813804626465,0.828646...</td>\n",
       "    </tr>\n",
       "    <tr>\n",
       "      <th>1</th>\n",
       "      <td>the sidewalk near the corner of streets has on...</td>\n",
       "      <td>http://s3-us-west-2.amazonaws.com/ktoo/2017/08...</td>\n",
       "      <td>mode of transport,transport,vehicle,street,nei...</td>\n",
       "      <td>/m/079bkr,/m/07bsy,/m/07yv9,/m/01c8br,/m/0180x...</td>\n",
       "      <td>0.8588771224021912,0.8513096570968628,0.783954...</td>\n",
       "    </tr>\n",
       "    <tr>\n",
       "      <th>2</th>\n",
       "      <td>actor attends the season premiere</td>\n",
       "      <td>https://media.gettyimages.com/photos/aidan-gil...</td>\n",
       "      <td>musician,premiere,event,singer,suit,performance</td>\n",
       "      <td>/m/09jwl,/m/03n3f3,/m/081pkj,/m/09l65,/m/01xyh...</td>\n",
       "      <td>0.8445718288421631,0.8338453769683838,0.670432...</td>\n",
       "    </tr>\n",
       "    <tr>\n",
       "      <th>3</th>\n",
       "      <td>another possible invitation -- love the font ,...</td>\n",
       "      <td>https://i.pinimg.com/736x/c1/c3/3a/c1c33aed458...</td>\n",
       "      <td>text,font,material property,label</td>\n",
       "      <td>/m/07s6nbt,/m/03gq5hm,/m/0457gc6,/m/05c0n6k</td>\n",
       "      <td>0.9419509172439575,0.8490258455276489,0.699199...</td>\n",
       "    </tr>\n",
       "    <tr>\n",
       "      <th>4</th>\n",
       "      <td>a woman walks her dog on the beach .</td>\n",
       "      <td>https://media.gettyimages.com/photos/woman-wal...</td>\n",
       "      <td>water,beach,sea,shore,ocean,canidae,dog,sky,wa...</td>\n",
       "      <td>/m/0838f,/m/0b3yr,/m/06npx,/m/02fm9k,/m/05kq4,...</td>\n",
       "      <td>0.9512578248977661,0.9311308860778809,0.916622...</td>\n",
       "    </tr>\n",
       "  </tbody>\n",
       "</table>\n",
       "</div>"
      ],
      "text/plain": [
       "              christmas tree on a black background .  \\\n",
       "0    item : drawing of a figure surrounded by person   \n",
       "1  the sidewalk near the corner of streets has on...   \n",
       "2                  actor attends the season premiere   \n",
       "3  another possible invitation -- love the font ,...   \n",
       "4               a woman walks her dog on the beach .   \n",
       "\n",
       "  https://thumb1.shutterstock.com/display_pic_with_logo/261388/223876810/stock-vector-christmas-tree-on-a-black-background-vector-223876810.jpg  \\\n",
       "0  https://i.pinimg.com/736x/f9/fd/48/f9fd4878090...                                                                                              \n",
       "1  http://s3-us-west-2.amazonaws.com/ktoo/2017/08...                                                                                              \n",
       "2  https://media.gettyimages.com/photos/aidan-gil...                                                                                              \n",
       "3  https://i.pinimg.com/736x/c1/c3/3a/c1c33aed458...                                                                                              \n",
       "4  https://media.gettyimages.com/photos/woman-wal...                                                                                              \n",
       "\n",
       "  christmas tree,christmas decoration,font,text,graphic design,illustration,interior design,tree,christmas eve,ornament,fir,plant,pine,pine family,graphics  \\\n",
       "0  drawing,modern art,line,visual arts,art,sketch...                                                                                                          \n",
       "1  mode of transport,transport,vehicle,street,nei...                                                                                                          \n",
       "2    musician,premiere,event,singer,suit,performance                                                                                                          \n",
       "3                  text,font,material property,label                                                                                                          \n",
       "4  water,beach,sea,shore,ocean,canidae,dog,sky,wa...                                                                                                          \n",
       "\n",
       "  /m/025nd,/m/05fc9mj,/m/03gq5hm,/m/07s6nbt,/m/03c31,/m/01kr8f,/m/0h8nzzj,/m/07j7r,/m/014r1s,/m/05ykl4,/m/016x4z,/m/05s2s,/m/09t57,/m/01tfm0,/m/021sdg  \\\n",
       "0  /m/02csf,/m/015r61,/m/03scnj,/m/0p9xx,/m/0jjw,...                                                                                                     \n",
       "1  /m/079bkr,/m/07bsy,/m/07yv9,/m/01c8br,/m/0180x...                                                                                                     \n",
       "2  /m/09jwl,/m/03n3f3,/m/081pkj,/m/09l65,/m/01xyh...                                                                                                     \n",
       "3        /m/07s6nbt,/m/03gq5hm,/m/0457gc6,/m/05c0n6k                                                                                                     \n",
       "4  /m/0838f,/m/0b3yr,/m/06npx,/m/02fm9k,/m/05kq4,...                                                                                                     \n",
       "\n",
       "  0.9818305373191833,0.952756941318512,0.9227379560470581,0.8524878621101379,0.7597672343254089,0.7493422031402588,0.7332468628883362,0.6869218349456787,0.6552258133888245,0.6357356309890747,0.5992692708969116,0.585474967956543,0.5222904086112976,0.5113164782524109,0.5036579966545105  \n",
       "0  0.8945257067680359,0.8489813804626465,0.828646...                                                                                                                                                                                                                                          \n",
       "1  0.8588771224021912,0.8513096570968628,0.783954...                                                                                                                                                                                                                                          \n",
       "2  0.8445718288421631,0.8338453769683838,0.670432...                                                                                                                                                                                                                                          \n",
       "3  0.9419509172439575,0.8490258455276489,0.699199...                                                                                                                                                                                                                                          \n",
       "4  0.9512578248977661,0.9311308860778809,0.916622...                                                                                                                                                                                                                                          "
      ]
     },
     "execution_count": 28,
     "metadata": {},
     "output_type": "execute_result"
    }
   ],
   "source": [
    "dataset2.head()"
   ]
  },
  {
   "cell_type": "code",
   "execution_count": 23,
   "id": "db752983",
   "metadata": {},
   "outputs": [
    {
     "name": "stdout",
     "output_type": "stream",
     "text": [
      "https://i.pinimg.com/736x/f9/fd/48/f9fd48780900641ded7ab53d74fe86fe--figure-painting-figure-drawing.jpg\n"
     ]
    }
   ],
   "source": [
    "print(dataset2['https://thumb1.shutterstock.com/display_pic_with_logo/261388/223876810/stock-vector-christmas-tree-on-a-black-background-vector-223876810.jpg'][0])"
   ]
  },
  {
   "cell_type": "code",
   "execution_count": null,
   "id": "0fddf1f2",
   "metadata": {},
   "outputs": [],
   "source": []
  },
  {
   "cell_type": "code",
   "execution_count": 24,
   "id": "b3b6d7d2",
   "metadata": {
    "scrolled": true
   },
   "outputs": [
    {
     "name": "stdout",
     "output_type": "stream",
     "text": [
      "Collecting yfcc100m\n",
      "  Downloading yfcc100m-1.0.1-py3-none-any.whl (14 kB)\n",
      "Collecting boto3<2.0.0,>=1.11.0\n",
      "  Downloading boto3-1.23.7-py3-none-any.whl (132 kB)\n",
      "Collecting botocore<2.0.0,>=1.14.0\n",
      "  Downloading botocore-1.26.7-py3-none-any.whl (8.8 MB)\n",
      "Requirement already satisfied: tqdm<5.0.0,>=4.23.0 in c:\\users\\bitcamp\\anaconda3\\lib\\site-packages (from yfcc100m) (4.62.3)\n",
      "Requirement already satisfied: Pillow>=7.0.0 in c:\\users\\bitcamp\\anaconda3\\lib\\site-packages (from yfcc100m) (8.4.0)\n",
      "Requirement already satisfied: numpy<2.0.0,>=1.17.0 in c:\\users\\bitcamp\\anaconda3\\lib\\site-packages (from yfcc100m) (1.20.3)\n",
      "Collecting simplejpeg>=1.4.1\n",
      "  Downloading simplejpeg-1.6.4-cp39-cp39-win_amd64.whl (214 kB)\n",
      "Collecting datadings<4.0.0,>=3.1.0\n",
      "  Downloading datadings-3.4.5-py3-none-any.whl (2.9 MB)\n",
      "Collecting s3transfer<0.6.0,>=0.5.0\n",
      "  Downloading s3transfer-0.5.2-py3-none-any.whl (79 kB)\n",
      "Collecting jmespath<2.0.0,>=0.7.1\n",
      "  Downloading jmespath-1.0.0-py3-none-any.whl (23 kB)\n",
      "Requirement already satisfied: urllib3<1.27,>=1.25.4 in c:\\users\\bitcamp\\anaconda3\\lib\\site-packages (from botocore<2.0.0,>=1.14.0->yfcc100m) (1.26.7)\n",
      "Requirement already satisfied: python-dateutil<3.0.0,>=2.1 in c:\\users\\bitcamp\\anaconda3\\lib\\site-packages (from botocore<2.0.0,>=1.14.0->yfcc100m) (2.8.2)\n",
      "Requirement already satisfied: requests<3.0.0,>=2.0.0 in c:\\users\\bitcamp\\anaconda3\\lib\\site-packages (from datadings<4.0.0,>=3.1.0->yfcc100m) (2.26.0)\n",
      "Requirement already satisfied: scipy<2.0.0,>=0.17.0 in c:\\users\\bitcamp\\anaconda3\\lib\\site-packages (from datadings<4.0.0,>=3.1.0->yfcc100m) (1.7.1)\n",
      "Collecting msgpack-numpy<1.0.0,>=0.4.2\n",
      "  Downloading msgpack_numpy-0.4.7.1-py2.py3-none-any.whl (6.7 kB)\n",
      "Collecting natsort>=4.0.4\n",
      "  Downloading natsort-8.1.0-py3-none-any.whl (37 kB)\n",
      "Collecting simplebloom<2.0.0,>=1.0.2\n",
      "  Downloading simplebloom-1.0.3-cp39-cp39-win_amd64.whl (24 kB)\n",
      "Requirement already satisfied: pyzmq>=18.1.1 in c:\\users\\bitcamp\\anaconda3\\lib\\site-packages (from datadings<4.0.0,>=3.1.0->yfcc100m) (22.2.1)\n",
      "Collecting gdown>=3.0.0\n",
      "  Downloading gdown-4.4.0.tar.gz (14 kB)\n",
      "  Installing build dependencies: started\n",
      "  Installing build dependencies: finished with status 'done'\n",
      "  Getting requirements to build wheel: started\n",
      "  Getting requirements to build wheel: finished with status 'done'\n",
      "    Preparing wheel metadata: started\n",
      "    Preparing wheel metadata: finished with status 'done'\n",
      "Requirement already satisfied: msgpack!=0.6.0,<2.0.0,>=0.5.0 in c:\\users\\bitcamp\\anaconda3\\lib\\site-packages (from datadings<4.0.0,>=3.1.0->yfcc100m) (1.0.2)\n",
      "Requirement already satisfied: six in c:\\users\\bitcamp\\anaconda3\\lib\\site-packages (from gdown>=3.0.0->datadings<4.0.0,>=3.1.0->yfcc100m) (1.16.0)\n",
      "Requirement already satisfied: filelock in c:\\users\\bitcamp\\anaconda3\\lib\\site-packages (from gdown>=3.0.0->datadings<4.0.0,>=3.1.0->yfcc100m) (3.3.1)\n",
      "Requirement already satisfied: beautifulsoup4 in c:\\users\\bitcamp\\anaconda3\\lib\\site-packages (from gdown>=3.0.0->datadings<4.0.0,>=3.1.0->yfcc100m) (4.11.1)\n",
      "Requirement already satisfied: charset-normalizer~=2.0.0 in c:\\users\\bitcamp\\anaconda3\\lib\\site-packages (from requests<3.0.0,>=2.0.0->datadings<4.0.0,>=3.1.0->yfcc100m) (2.0.4)\n",
      "Requirement already satisfied: idna<4,>=2.5 in c:\\users\\bitcamp\\anaconda3\\lib\\site-packages (from requests<3.0.0,>=2.0.0->datadings<4.0.0,>=3.1.0->yfcc100m) (3.2)\n",
      "Requirement already satisfied: certifi>=2017.4.17 in c:\\users\\bitcamp\\anaconda3\\lib\\site-packages (from requests<3.0.0,>=2.0.0->datadings<4.0.0,>=3.1.0->yfcc100m) (2021.10.8)\n",
      "Requirement already satisfied: colorama in c:\\users\\bitcamp\\anaconda3\\lib\\site-packages (from tqdm<5.0.0,>=4.23.0->yfcc100m) (0.4.4)\n",
      "Requirement already satisfied: soupsieve>1.2 in c:\\users\\bitcamp\\anaconda3\\lib\\site-packages (from beautifulsoup4->gdown>=3.0.0->datadings<4.0.0,>=3.1.0->yfcc100m) (2.2.1)\n",
      "Requirement already satisfied: PySocks!=1.5.7,>=1.5.6 in c:\\users\\bitcamp\\anaconda3\\lib\\site-packages (from requests<3.0.0,>=2.0.0->datadings<4.0.0,>=3.1.0->yfcc100m) (1.7.1)\n",
      "Building wheels for collected packages: gdown\n",
      "  Building wheel for gdown (PEP 517): started\n",
      "  Building wheel for gdown (PEP 517): finished with status 'done'\n",
      "  Created wheel for gdown: filename=gdown-4.4.0-py3-none-any.whl size=14759 sha256=f0f8e263d2d0404769b2cc6b07ae7c955d05ec1d8e77373fff54270af128c331\n",
      "  Stored in directory: c:\\users\\bitcamp\\appdata\\local\\pip\\cache\\wheels\\7d\\37\\b6\\b2a79c75e898c0b8e46ff255102602d7159a10d9af0d80641a\n",
      "Successfully built gdown\n",
      "Installing collected packages: jmespath, botocore, simplejpeg, simplebloom, s3transfer, natsort, msgpack-numpy, gdown, datadings, boto3, yfcc100m\n",
      "Successfully installed boto3-1.23.7 botocore-1.26.7 datadings-3.4.5 gdown-4.4.0 jmespath-1.0.0 msgpack-numpy-0.4.7.1 natsort-8.1.0 s3transfer-0.5.2 simplebloom-1.0.3 simplejpeg-1.6.4 yfcc100m-1.0.1\n"
     ]
    }
   ],
   "source": [
    "!pip install yfcc100m"
   ]
  },
  {
   "cell_type": "code",
   "execution_count": null,
   "id": "2c89c4f8",
   "metadata": {},
   "outputs": [],
   "source": []
  },
  {
   "cell_type": "code",
   "execution_count": null,
   "id": "375d9f42",
   "metadata": {},
   "outputs": [],
   "source": []
  },
  {
   "cell_type": "code",
   "execution_count": null,
   "id": "fac2af07",
   "metadata": {},
   "outputs": [],
   "source": []
  },
  {
   "cell_type": "code",
   "execution_count": null,
   "id": "f04d3b4b",
   "metadata": {},
   "outputs": [],
   "source": []
  },
  {
   "cell_type": "code",
   "execution_count": null,
   "id": "b6c25a00",
   "metadata": {},
   "outputs": [],
   "source": []
  },
  {
   "cell_type": "code",
   "execution_count": null,
   "id": "e6787379",
   "metadata": {},
   "outputs": [],
   "source": []
  },
  {
   "cell_type": "code",
   "execution_count": null,
   "id": "ec630ec0",
   "metadata": {},
   "outputs": [],
   "source": []
  },
  {
   "cell_type": "code",
   "execution_count": null,
   "id": "38801ebb",
   "metadata": {},
   "outputs": [],
   "source": []
  },
  {
   "cell_type": "code",
   "execution_count": null,
   "id": "926697b8",
   "metadata": {},
   "outputs": [],
   "source": []
  },
  {
   "cell_type": "code",
   "execution_count": null,
   "id": "281ceead",
   "metadata": {},
   "outputs": [],
   "source": []
  },
  {
   "cell_type": "code",
   "execution_count": null,
   "id": "c769d0ee",
   "metadata": {},
   "outputs": [],
   "source": []
  },
  {
   "cell_type": "code",
   "execution_count": null,
   "id": "607d3ee3",
   "metadata": {},
   "outputs": [],
   "source": []
  },
  {
   "cell_type": "code",
   "execution_count": null,
   "id": "3a197071",
   "metadata": {},
   "outputs": [],
   "source": []
  },
  {
   "cell_type": "code",
   "execution_count": null,
   "id": "ac290c65",
   "metadata": {},
   "outputs": [],
   "source": []
  },
  {
   "cell_type": "code",
   "execution_count": null,
   "id": "b38bb018",
   "metadata": {},
   "outputs": [],
   "source": []
  },
  {
   "cell_type": "code",
   "execution_count": null,
   "id": "ceafe617",
   "metadata": {},
   "outputs": [],
   "source": []
  },
  {
   "cell_type": "code",
   "execution_count": null,
   "id": "af67a330",
   "metadata": {},
   "outputs": [],
   "source": []
  },
  {
   "cell_type": "code",
   "execution_count": null,
   "id": "257a4efd",
   "metadata": {},
   "outputs": [],
   "source": []
  },
  {
   "cell_type": "code",
   "execution_count": null,
   "id": "5bd0d664",
   "metadata": {},
   "outputs": [],
   "source": []
  },
  {
   "cell_type": "code",
   "execution_count": null,
   "id": "d344d40a",
   "metadata": {},
   "outputs": [],
   "source": []
  },
  {
   "cell_type": "code",
   "execution_count": null,
   "id": "f8fb9889",
   "metadata": {},
   "outputs": [],
   "source": []
  },
  {
   "cell_type": "code",
   "execution_count": null,
   "id": "cbf571d9",
   "metadata": {},
   "outputs": [],
   "source": []
  },
  {
   "cell_type": "code",
   "execution_count": null,
   "id": "2ff67043",
   "metadata": {},
   "outputs": [],
   "source": []
  },
  {
   "cell_type": "code",
   "execution_count": null,
   "id": "ae18afef",
   "metadata": {},
   "outputs": [],
   "source": []
  },
  {
   "cell_type": "code",
   "execution_count": null,
   "id": "d3ecd817",
   "metadata": {},
   "outputs": [],
   "source": []
  },
  {
   "cell_type": "code",
   "execution_count": null,
   "id": "1a7f98b8",
   "metadata": {},
   "outputs": [],
   "source": []
  },
  {
   "cell_type": "code",
   "execution_count": null,
   "id": "f84d53b9",
   "metadata": {},
   "outputs": [],
   "source": []
  },
  {
   "cell_type": "code",
   "execution_count": null,
   "id": "d4d8b8f4",
   "metadata": {},
   "outputs": [],
   "source": []
  },
  {
   "cell_type": "code",
   "execution_count": null,
   "id": "e15cebf7",
   "metadata": {},
   "outputs": [],
   "source": []
  },
  {
   "cell_type": "code",
   "execution_count": null,
   "id": "d7e47f0c",
   "metadata": {},
   "outputs": [],
   "source": []
  },
  {
   "cell_type": "code",
   "execution_count": null,
   "id": "16b3572b",
   "metadata": {},
   "outputs": [],
   "source": []
  },
  {
   "cell_type": "code",
   "execution_count": null,
   "id": "644f15ec",
   "metadata": {},
   "outputs": [],
   "source": []
  },
  {
   "cell_type": "code",
   "execution_count": null,
   "id": "b768a996",
   "metadata": {},
   "outputs": [],
   "source": []
  },
  {
   "cell_type": "code",
   "execution_count": null,
   "id": "6cb8eae4",
   "metadata": {},
   "outputs": [],
   "source": []
  },
  {
   "cell_type": "code",
   "execution_count": null,
   "id": "000bd454",
   "metadata": {},
   "outputs": [],
   "source": []
  },
  {
   "cell_type": "code",
   "execution_count": null,
   "id": "7dad993e",
   "metadata": {},
   "outputs": [],
   "source": []
  },
  {
   "cell_type": "code",
   "execution_count": null,
   "id": "96909694",
   "metadata": {},
   "outputs": [],
   "source": []
  },
  {
   "cell_type": "code",
   "execution_count": null,
   "id": "776800a5",
   "metadata": {},
   "outputs": [],
   "source": []
  },
  {
   "cell_type": "code",
   "execution_count": null,
   "id": "d35e1f24",
   "metadata": {},
   "outputs": [],
   "source": []
  },
  {
   "cell_type": "code",
   "execution_count": null,
   "id": "6b46a75a",
   "metadata": {},
   "outputs": [],
   "source": []
  }
 ],
 "metadata": {
  "kernelspec": {
   "display_name": "Python 3 (ipykernel)",
   "language": "python",
   "name": "python3"
  },
  "language_info": {
   "codemirror_mode": {
    "name": "ipython",
    "version": 3
   },
   "file_extension": ".py",
   "mimetype": "text/x-python",
   "name": "python",
   "nbconvert_exporter": "python",
   "pygments_lexer": "ipython3",
   "version": "3.9.7"
  }
 },
 "nbformat": 4,
 "nbformat_minor": 5
}
